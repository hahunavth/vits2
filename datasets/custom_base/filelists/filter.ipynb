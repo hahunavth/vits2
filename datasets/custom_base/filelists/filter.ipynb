{
 "cells": [
  {
   "cell_type": "code",
   "execution_count": 2,
   "id": "initial_id",
   "metadata": {
    "collapsed": true,
    "ExecuteTime": {
     "end_time": "2023-11-12T15:13:13.592925100Z",
     "start_time": "2023-11-12T15:13:13.478924500Z"
    }
   },
   "outputs": [],
   "source": [
    "def split_set(f_in, subset):\n",
    "    with open(f_in.replace(\".txt\", \"-{}.txt\".format(subset)), \"w\") as fo:\n",
    "        with open(f_in) as fi:\n",
    "            for line in fi:\n",
    "                line = line.strip()\n",
    "                if line.startswith(subset):\n",
    "                    fo.write(line + \"\\n\")\n",
    "\n",
    "split_set(\"train.txt\", \"emo\")\n",
    "split_set(\"train.txt\", \"neu\")\n",
    "\n",
    "split_set(\"val.txt\", \"emo\")\n",
    "split_set(\"val.txt\", \"neu\")\n",
    "\n",
    "split_set(\"test.txt\", \"emo\")\n",
    "split_set(\"test.txt\", \"neu\")"
   ]
  }
 ],
 "metadata": {
  "kernelspec": {
   "display_name": "Python 3",
   "language": "python",
   "name": "python3"
  },
  "language_info": {
   "codemirror_mode": {
    "name": "ipython",
    "version": 2
   },
   "file_extension": ".py",
   "mimetype": "text/x-python",
   "name": "python",
   "nbconvert_exporter": "python",
   "pygments_lexer": "ipython2",
   "version": "2.7.6"
  }
 },
 "nbformat": 4,
 "nbformat_minor": 5
}
